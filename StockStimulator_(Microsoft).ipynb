{
  "nbformat": 4,
  "nbformat_minor": 0,
  "metadata": {
    "colab": {
      "name": "StockStimulator (Microsoft).ipynb",
      "provenance": [],
      "collapsed_sections": [],
      "authorship_tag": "ABX9TyNPbDmjsA3OwWINJfKGe8rj"
    },
    "kernelspec": {
      "name": "python3",
      "display_name": "Python 3"
    }
  },
  "cells": [
    {
      "cell_type": "code",
      "metadata": {
        "id": "gQFlg4B32xRo",
        "colab_type": "code",
        "outputId": "57165a5e-dcc2-49ef-9aef-bb49cb8bc430",
        "colab": {
          "base_uri": "https://localhost:8080/",
          "height": 34
        }
      },
      "source": [
        "import math\n",
        "import pandas_datareader as web\n",
        "import numpy as np\n",
        "import pandas as pd\n",
        "from sklearn.preprocessing import MinMaxScaler #standardize dataset\n",
        "from keras.models import Sequential\n",
        "from keras.layers import Dense, LSTM\n",
        "import matplotlib.pyplot as plt\n",
        "plt.style.use('ggplot')\n"
      ],
      "execution_count": 0,
      "outputs": [
        {
          "output_type": "stream",
          "text": [
            "Using TensorFlow backend.\n"
          ],
          "name": "stderr"
        }
      ]
    },
    {
      "cell_type": "code",
      "metadata": {
        "id": "q5PY7apj7W1v",
        "colab_type": "code",
        "outputId": "18dbdaa5-455d-491c-82dd-775f7da34618",
        "colab": {
          "base_uri": "https://localhost:8080/",
          "height": 450
        }
      },
      "source": [
        "#Get Stock\n",
        "df = web.DataReader('MSFT', data_source='yahoo', start= '2010-01-01', end='2020-01-01')\n",
        "\n",
        "#Show Data\n",
        "df"
      ],
      "execution_count": 0,
      "outputs": [
        {
          "output_type": "execute_result",
          "data": {
            "text/html": [
              "<div>\n",
              "<style scoped>\n",
              "    .dataframe tbody tr th:only-of-type {\n",
              "        vertical-align: middle;\n",
              "    }\n",
              "\n",
              "    .dataframe tbody tr th {\n",
              "        vertical-align: top;\n",
              "    }\n",
              "\n",
              "    .dataframe thead th {\n",
              "        text-align: right;\n",
              "    }\n",
              "</style>\n",
              "<table border=\"1\" class=\"dataframe\">\n",
              "  <thead>\n",
              "    <tr style=\"text-align: right;\">\n",
              "      <th></th>\n",
              "      <th>High</th>\n",
              "      <th>Low</th>\n",
              "      <th>Open</th>\n",
              "      <th>Close</th>\n",
              "      <th>Volume</th>\n",
              "      <th>Adj Close</th>\n",
              "    </tr>\n",
              "    <tr>\n",
              "      <th>Date</th>\n",
              "      <th></th>\n",
              "      <th></th>\n",
              "      <th></th>\n",
              "      <th></th>\n",
              "      <th></th>\n",
              "      <th></th>\n",
              "    </tr>\n",
              "  </thead>\n",
              "  <tbody>\n",
              "    <tr>\n",
              "      <th>2010-01-04</th>\n",
              "      <td>31.100000</td>\n",
              "      <td>30.590000</td>\n",
              "      <td>30.620001</td>\n",
              "      <td>30.950001</td>\n",
              "      <td>38409100.0</td>\n",
              "      <td>24.294369</td>\n",
              "    </tr>\n",
              "    <tr>\n",
              "      <th>2010-01-05</th>\n",
              "      <td>31.100000</td>\n",
              "      <td>30.639999</td>\n",
              "      <td>30.850000</td>\n",
              "      <td>30.959999</td>\n",
              "      <td>49749600.0</td>\n",
              "      <td>24.302216</td>\n",
              "    </tr>\n",
              "    <tr>\n",
              "      <th>2010-01-06</th>\n",
              "      <td>31.080000</td>\n",
              "      <td>30.520000</td>\n",
              "      <td>30.879999</td>\n",
              "      <td>30.770000</td>\n",
              "      <td>58182400.0</td>\n",
              "      <td>24.153070</td>\n",
              "    </tr>\n",
              "    <tr>\n",
              "      <th>2010-01-07</th>\n",
              "      <td>30.700001</td>\n",
              "      <td>30.190001</td>\n",
              "      <td>30.629999</td>\n",
              "      <td>30.450001</td>\n",
              "      <td>50559700.0</td>\n",
              "      <td>23.901886</td>\n",
              "    </tr>\n",
              "    <tr>\n",
              "      <th>2010-01-08</th>\n",
              "      <td>30.879999</td>\n",
              "      <td>30.240000</td>\n",
              "      <td>30.280001</td>\n",
              "      <td>30.660000</td>\n",
              "      <td>51197400.0</td>\n",
              "      <td>24.066734</td>\n",
              "    </tr>\n",
              "    <tr>\n",
              "      <th>...</th>\n",
              "      <td>...</td>\n",
              "      <td>...</td>\n",
              "      <td>...</td>\n",
              "      <td>...</td>\n",
              "      <td>...</td>\n",
              "      <td>...</td>\n",
              "    </tr>\n",
              "    <tr>\n",
              "      <th>2019-12-24</th>\n",
              "      <td>157.710007</td>\n",
              "      <td>157.119995</td>\n",
              "      <td>157.479996</td>\n",
              "      <td>157.380005</td>\n",
              "      <td>8989200.0</td>\n",
              "      <td>156.951309</td>\n",
              "    </tr>\n",
              "    <tr>\n",
              "      <th>2019-12-26</th>\n",
              "      <td>158.729996</td>\n",
              "      <td>157.399994</td>\n",
              "      <td>157.559998</td>\n",
              "      <td>158.669998</td>\n",
              "      <td>14520600.0</td>\n",
              "      <td>158.237793</td>\n",
              "    </tr>\n",
              "    <tr>\n",
              "      <th>2019-12-27</th>\n",
              "      <td>159.550003</td>\n",
              "      <td>158.220001</td>\n",
              "      <td>159.449997</td>\n",
              "      <td>158.960007</td>\n",
              "      <td>18412800.0</td>\n",
              "      <td>158.527008</td>\n",
              "    </tr>\n",
              "    <tr>\n",
              "      <th>2019-12-30</th>\n",
              "      <td>159.020004</td>\n",
              "      <td>156.729996</td>\n",
              "      <td>158.990005</td>\n",
              "      <td>157.589996</td>\n",
              "      <td>16348400.0</td>\n",
              "      <td>157.160736</td>\n",
              "    </tr>\n",
              "    <tr>\n",
              "      <th>2019-12-31</th>\n",
              "      <td>157.770004</td>\n",
              "      <td>156.449997</td>\n",
              "      <td>156.770004</td>\n",
              "      <td>157.699997</td>\n",
              "      <td>18369400.0</td>\n",
              "      <td>157.270432</td>\n",
              "    </tr>\n",
              "  </tbody>\n",
              "</table>\n",
              "<p>2516 rows × 6 columns</p>\n",
              "</div>"
            ],
            "text/plain": [
              "                  High         Low  ...      Volume   Adj Close\n",
              "Date                                ...                        \n",
              "2010-01-04   31.100000   30.590000  ...  38409100.0   24.294369\n",
              "2010-01-05   31.100000   30.639999  ...  49749600.0   24.302216\n",
              "2010-01-06   31.080000   30.520000  ...  58182400.0   24.153070\n",
              "2010-01-07   30.700001   30.190001  ...  50559700.0   23.901886\n",
              "2010-01-08   30.879999   30.240000  ...  51197400.0   24.066734\n",
              "...                ...         ...  ...         ...         ...\n",
              "2019-12-24  157.710007  157.119995  ...   8989200.0  156.951309\n",
              "2019-12-26  158.729996  157.399994  ...  14520600.0  158.237793\n",
              "2019-12-27  159.550003  158.220001  ...  18412800.0  158.527008\n",
              "2019-12-30  159.020004  156.729996  ...  16348400.0  157.160736\n",
              "2019-12-31  157.770004  156.449997  ...  18369400.0  157.270432\n",
              "\n",
              "[2516 rows x 6 columns]"
            ]
          },
          "metadata": {
            "tags": []
          },
          "execution_count": 3
        }
      ]
    },
    {
      "cell_type": "code",
      "metadata": {
        "id": "3CdPDTrA8kya",
        "colab_type": "code",
        "outputId": "0b953d77-504c-4859-8ceb-881f576b4f56",
        "colab": {
          "base_uri": "https://localhost:8080/",
          "height": 539
        }
      },
      "source": [
        "#Displaying all records of microsoft stock from 2010 to 2020\n",
        "plt.figure(figsize=(16,8))\n",
        "plt.title('Close Price Records')\n",
        "plt.plot(df['Close'])\n",
        "plt.xlabel('Date', fontsize=18)\n",
        "plt.ylabel('Close Price', fontsize=18)"
      ],
      "execution_count": 0,
      "outputs": [
        {
          "output_type": "execute_result",
          "data": {
            "text/plain": [
              "Text(0, 0.5, 'Close Price')"
            ]
          },
          "metadata": {
            "tags": []
          },
          "execution_count": 4
        },
        {
          "output_type": "display_data",
          "data": {
            "image/png": "[encoded data removed]",
            "text/plain": [
              "<Figure size 1152x576 with 1 Axes>"
            ]
          },
          "metadata": {
            "tags": []
          }
        }
      ]
    },
    {
      "cell_type": "code",
      "metadata": {
        "id": "JP9wWE7j9e6H",
        "colab_type": "code",
        "colab": {}
      },
      "source": [
        "#Declaring values to train algorithm\n",
        "data = df.filter(['Close'])\n",
        "dataset = data.values\n",
        "training_data_len = len(dataset)\n"
      ],
      "execution_count": 0,
      "outputs": []
    },
    {
      "cell_type": "code",
      "metadata": {
        "id": "Zr0qWpYx-EYd",
        "colab_type": "code",
        "outputId": "1a87dc65-a6b1-486b-89dc-77da285b131c",
        "colab": {
          "base_uri": "https://localhost:8080/",
          "height": 136
        }
      },
      "source": [
        "#Scaled dataset\n",
        "scaler = MinMaxScaler(feature_range=(0,1))\n",
        "scaled_data = scaler.fit_transform(dataset)\n",
        "\n",
        "scaled_data"
      ],
      "execution_count": 0,
      "outputs": [
        {
          "output_type": "execute_result",
          "data": {
            "text/plain": [
              "array([[0.05840383],\n",
              "       [0.05847737],\n",
              "       [0.05707981],\n",
              "       ...,\n",
              "       [1.        ],\n",
              "       [0.98992269],\n",
              "       [0.99073182]])"
            ]
          },
          "metadata": {
            "tags": []
          },
          "execution_count": 6
        }
      ]
    },
    {
      "cell_type": "code",
      "metadata": {
        "id": "2le5GZI1-4Ne",
        "colab_type": "code",
        "outputId": "19e36051-7be5-4127-8634-b0bbca4d9b00",
        "colab": {
          "base_uri": "https://localhost:8080/",
          "height": 255
        }
      },
      "source": [
        "#Creating training dataset in x and y components\n",
        "train_data = scaled_data[0:training_data_len , :]\n",
        "x_train = []\n",
        "y_train = []\n",
        "\n",
        "for i in range(60, len(train_data)):\n",
        "  x_train.append(train_data[i-60:i, 0])\n",
        "  y_train.append(train_data[i, 0])\n",
        "  if i<= 61:\n",
        "    print(x_train)\n",
        "    print(y_train)\n",
        "    print()"
      ],
      "execution_count": 0,
      "outputs": [
        {
          "output_type": "stream",
          "text": [
            "[array([0.05840383, 0.05847737, 0.05707981, 0.054726  , 0.05627068,\n",
            "       0.05340199, 0.05193085, 0.05399044, 0.05847737, 0.05774182,\n",
            "       0.05950717, 0.05575579, 0.05148952, 0.04376608, 0.04641412,\n",
            "       0.04773814, 0.0489886 , 0.04523721, 0.03802869, 0.03972048,\n",
            "       0.04008826, 0.04133872, 0.03552777, 0.03685178, 0.03464508,\n",
            "       0.03677823, 0.03663111, 0.03758735, 0.03618977, 0.03927915,\n",
            "       0.0410445 , 0.04383964, 0.04236852, 0.04207428, 0.03913203,\n",
            "       0.04133872, 0.04111806, 0.04163295, 0.04420743, 0.04008826,\n",
            "       0.04008826, 0.04133872, 0.0410445 , 0.04133872, 0.04258918,\n",
            "       0.04383964, 0.04538433, 0.04604634, 0.04619346, 0.04678191,\n",
            "       0.04869436, 0.04854726, 0.04840014, 0.0484737 , 0.05053327,\n",
            "       0.04884148, 0.05148952, 0.04891504, 0.04840014, 0.04972416])]\n",
            "[0.04619345632277763]\n",
            "\n"
          ],
          "name": "stdout"
        }
      ]
    },
    {
      "cell_type": "code",
      "metadata": {
        "id": "LK4tFpOZAQ6b",
        "colab_type": "code",
        "outputId": "185a8b6a-393c-4da8-d6ac-382fffea2d00",
        "colab": {
          "base_uri": "https://localhost:8080/",
          "height": 34
        }
      },
      "source": [
        "#Create numpy arrays\n",
        "x_train, y_train = np.array(x_train), np.array(y_train)\n",
        "x_train = np.reshape(x_train, (x_train.shape[0], x_train.shape[1], 1))\n",
        "x_train.shape"
      ],
      "execution_count": 0,
      "outputs": [
        {
          "output_type": "execute_result",
          "data": {
            "text/plain": [
              "(2456, 60, 1)"
            ]
          },
          "metadata": {
            "tags": []
          },
          "execution_count": 20
        }
      ]
    },
    {
      "cell_type": "code",
      "metadata": {
        "id": "z25IsxR8A_JA",
        "colab_type": "code",
        "outputId": "1c1d7b78-14da-4099-e66c-b186beb88a1c",
        "colab": {
          "base_uri": "https://localhost:8080/",
          "height": 68
        }
      },
      "source": [
        "#LSTM Model\n",
        "model = Sequential()\n",
        "model.add(LSTM(50, return_sequences=True, input_shape=(x_train.shape[1], 1)))\n",
        "model.add(LSTM(50, return_sequences=False))\n",
        "model.add(Dense(25))\n",
        "model.add(Dense(1))\n",
        "model.compile(optimizer='adam', loss='mean_squared_error') #adam improvement on existing optimizers\n",
        "model.fit(x_train, y_train, batch_size=1, epochs=1)"
      ],
      "execution_count": 0,
      "outputs": [
        {
          "output_type": "stream",
          "text": [
            "Epoch 1/1\n",
            "2456/2456 [==============================] - 73s 30ms/step - loss: 0.0014\n"
          ],
          "name": "stdout"
        },
        {
          "output_type": "execute_result",
          "data": {
            "text/plain": [
              "<keras.callbacks.callbacks.History at 0x7f84bc652c88>"
            ]
          },
          "metadata": {
            "tags": []
          },
          "execution_count": 14
        }
      ]
    },
    {
      "cell_type": "code",
      "metadata": {
        "id": "iosZSrM9DS15",
        "colab_type": "code",
        "colab": {}
      },
      "source": [
        "#Test dataset of test values (1500-2500)\n",
        "test_data = scaled_data[training_data_len - 60: , :]\n",
        "\n",
        "#Create data sets x_test, y_test\n",
        "x_test =[]\n",
        "y_test = dataset[training_data_len:, :]\n",
        "\n",
        "for i in range(60, len(test_data)):\n",
        "  x_test.append(test_data[i-60:i, 0])\n",
        "\n",
        "#reshape test values to suit LSTM model\n",
        "x_test = np.array(x_test)\n",
        "#x_test = np.reshape(x_test, (x_test.shape[0], x_test.shape[1], 1))"
      ],
      "execution_count": 0,
      "outputs": []
    },
    {
      "cell_type": "code",
      "metadata": {
        "id": "XD7TKcSwFXHE",
        "colab_type": "code",
        "colab": {}
      },
      "source": [
        "#Get predicted price values for models with RMSE of predictions\n",
        "#predictions = model.predict(x_test)\n",
        "#predictions = scaler.inverse_transform(predictions) #reverse scaling\n"
      ],
      "execution_count": 0,
      "outputs": []
    },
    {
      "cell_type": "code",
      "metadata": {
        "id": "BqmWKEtjIooZ",
        "colab_type": "code",
        "colab": {}
      },
      "source": [
        "#rmse=np.sqrt(np.mean(((predictions- y_test)**2)))"
      ],
      "execution_count": 0,
      "outputs": []
    },
    {
      "cell_type": "code",
      "metadata": {
        "id": "8_CjIi1oGTof",
        "colab_type": "code",
        "colab": {}
      },
      "source": [
        ""
      ],
      "execution_count": 0,
      "outputs": []
    }
  ]
}